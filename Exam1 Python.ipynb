{
 "cells": [
  {
   "cell_type": "markdown",
   "id": "186962ca",
   "metadata": {},
   "source": [
    "# 1."
   ]
  },
  {
   "cell_type": "code",
   "execution_count": 1,
   "id": "42f93470",
   "metadata": {},
   "outputs": [
    {
     "name": "stdout",
     "output_type": "stream",
     "text": [
      "Positive Comments: \n",
      "  He is a good boy\n",
      "  He is an awesome player\n",
      "  She is the best\n",
      "  These burger are really nice\n",
      "\n",
      "Negative Comments: \n",
      "  Food is the worst here\n",
      "  This pizza tastes awful\n"
     ]
    }
   ],
   "source": [
    "positive = ['good','awesome','best','nice']\n",
    "negative = ['worst','awful']\n",
    "comments = ['He is a good boy','Food is the worst here','He is an awesome player','She is the best','This pizza tastes awful','These burger are really nice']\n",
    "pos=[];neg=[]\n",
    "result =[]\n",
    "for j in comments:\n",
    "    for i in j.split():\n",
    "        if i in positive:\n",
    "            pos.append(j)\n",
    "        elif i in negative:\n",
    "            neg.append(j)\n",
    "print(\"Positive Comments: \")\n",
    "for i in pos:\n",
    "    print(' ',i) \n",
    "print()        \n",
    "print(\"Negative Comments: \")\n",
    "for i in neg:\n",
    "    print(' ',i) "
   ]
  },
  {
   "cell_type": "markdown",
   "id": "d798dcbf",
   "metadata": {},
   "source": [
    "# 2."
   ]
  },
  {
   "cell_type": "code",
   "execution_count": 2,
   "id": "4f2d244c",
   "metadata": {},
   "outputs": [
    {
     "name": "stdout",
     "output_type": "stream",
     "text": [
      "254.45\n"
     ]
    }
   ],
   "source": [
    "def solve(n):\n",
    "    dict = { 'Square': lambda a : a**2, \n",
    "         'Cube': lambda a : a**3, \n",
    "         'Squareroot': lambda a : a**(1/2)}\n",
    "    result = 0\n",
    "    for k in dict.keys():\n",
    "        result += dict[k](n)\n",
    "    return result\n",
    "    \n",
    "print(round(solve(6),2))   "
   ]
  },
  {
   "cell_type": "markdown",
   "id": "f88dbf6b",
   "metadata": {},
   "source": [
    "# 3."
   ]
  },
  {
   "cell_type": "code",
   "execution_count": 3,
   "id": "2df70619",
   "metadata": {},
   "outputs": [
    {
     "name": "stdout",
     "output_type": "stream",
     "text": [
      "Sour Fruits: ['Lemon', 'Grapes', 'Kiwi', 'Orange', 'Limes']\n"
     ]
    }
   ],
   "source": [
    "fruits = (('Lemon','sour'),('DragonFruit', 'Sweet'),('Grapes','soUr'),('Kiwi','Sour'),('Apples', 'sweet'),('Orange', 'sour'),('Blueberries','sweet'),('Limes','Sour'))\n",
    "\n",
    "sourFruits=[]\n",
    "\n",
    "for j in fruits:\n",
    "    if(j[1].lower()=='sour'):\n",
    "        sourFruits.append(j[0])\n",
    " \n",
    "print(\"Sour Fruits:\", sourFruits)  "
   ]
  },
  {
   "cell_type": "markdown",
   "id": "dc15e24d",
   "metadata": {},
   "source": [
    "# 4."
   ]
  },
  {
   "cell_type": "code",
   "execution_count": 4,
   "id": "402526e5",
   "metadata": {},
   "outputs": [
    {
     "name": "stdout",
     "output_type": "stream",
     "text": [
      "['hOw', 'ARe']\n"
     ]
    }
   ],
   "source": [
    "ls = ['hello','Dear','hOw','ARe','You']\n",
    "result=[]\n",
    "for j in ls:\n",
    "    if(j[1].isupper()):\n",
    "        result.append(j)\n",
    "print(result)  "
   ]
  },
  {
   "cell_type": "markdown",
   "id": "209e6f3e",
   "metadata": {},
   "source": [
    "# 5."
   ]
  },
  {
   "cell_type": "code",
   "execution_count": 5,
   "id": "e4980e4f",
   "metadata": {},
   "outputs": [
    {
     "name": "stdout",
     "output_type": "stream",
     "text": [
      "{'Jhon': 7.44, 'shelly': 10.75, 'Marry': 5.79}\n"
     ]
    }
   ],
   "source": [
    "weight = {'Jhon':45,'shelly':65,'Marry':35}\n",
    "\n",
    "l = lambda x: round((x/9.81)*1.622, 2)\n",
    "ans = lambda k: (k, l(weight[k]))\n",
    "r = dict(ans(x) for x in weight)\n",
    "print(r)"
   ]
  },
  {
   "cell_type": "markdown",
   "id": "70608a6d",
   "metadata": {},
   "source": [
    "# 6."
   ]
  },
  {
   "cell_type": "code",
   "execution_count": 6,
   "id": "34c0db8d",
   "metadata": {},
   "outputs": [
    {
     "name": "stdout",
     "output_type": "stream",
     "text": [
      "['Maria', 'Hello', 'World', 'Merry', 'You']\n"
     ]
    }
   ],
   "source": [
    "namesList = ['santa Maria', 'Hello World', 'Merry christmas', 'tHank You']\n",
    "l=[]\n",
    "result=[]\n",
    "for j in namesList:\n",
    "    for i in j.split():\n",
    "        l.append(i)\n",
    "for j in l:\n",
    "    if(j[0].isupper()):\n",
    "        result.append(j)\n",
    "print(result) "
   ]
  },
  {
   "cell_type": "markdown",
   "id": "97ac13cc",
   "metadata": {},
   "source": [
    "# 7."
   ]
  },
  {
   "cell_type": "code",
   "execution_count": 7,
   "id": "a9d131b6",
   "metadata": {},
   "outputs": [
    {
     "data": {
      "text/plain": [
       "{3, 8}"
      ]
     },
     "execution_count": 7,
     "metadata": {},
     "output_type": "execute_result"
    }
   ],
   "source": [
    "l = [[1,2,3,4,8],[2,3,8,5,6],[8,4,5,3,7],[6,9,8,3],[9,12,3,7,6,8,4,6,21,1,6]]\n",
    "\n",
    "from functools import reduce\n",
    "reduce(set.intersection, [set(l_) for l_ in l])"
   ]
  },
  {
   "cell_type": "markdown",
   "id": "96fe2370",
   "metadata": {},
   "source": [
    "# 8."
   ]
  },
  {
   "cell_type": "code",
   "execution_count": 8,
   "id": "60c2a5f7",
   "metadata": {},
   "outputs": [
    {
     "name": "stdout",
     "output_type": "stream",
     "text": [
      "9\n",
      "8.5\n",
      "7.75\n",
      "6.875\n",
      "5.9375\n"
     ]
    }
   ],
   "source": [
    "from itertools import accumulate\n",
    "arr = [9,8,7,6,5]\n",
    "result= accumulate(arr, lambda x,y:(x+y)/2)\n",
    "for res in result:\n",
    "    print(res)"
   ]
  },
  {
   "cell_type": "markdown",
   "id": "59ab60ff",
   "metadata": {},
   "source": [
    "# 9."
   ]
  },
  {
   "cell_type": "code",
   "execution_count": 9,
   "id": "a37a7a9c",
   "metadata": {},
   "outputs": [
    {
     "name": "stdout",
     "output_type": "stream",
     "text": [
      "['TRUE', 'FALSE', 'TRUE', 'TRUE', 'FALSE', 'FALSE']\n"
     ]
    }
   ],
   "source": [
    "Isbool = ['True','FALse','tRUe','tRue','False','faLse']\n",
    "res = map(lambda x:x.upper(),Isbool)\n",
    "result = list(res)\n",
    "print(result)"
   ]
  },
  {
   "cell_type": "markdown",
   "id": "b8587af1",
   "metadata": {},
   "source": [
    "# 10."
   ]
  },
  {
   "cell_type": "code",
   "execution_count": 10,
   "id": "c6fac3f9",
   "metadata": {},
   "outputs": [
    {
     "name": "stdout",
     "output_type": "stream",
     "text": [
      "['1997', '2011', '1993', '2020']\n"
     ]
    }
   ],
   "source": [
    "date=['17-12-1997','22-04-2011','01-05-1993','19-06-2020']\n",
    "result=[]\n",
    "for i in date:\n",
    "    c=0\n",
    "    for j in i.split('-'):\n",
    "        if(c==2):\n",
    "            result.append(j)\n",
    "        c+=1    \n",
    "print(result)"
   ]
  },
  {
   "cell_type": "code",
   "execution_count": null,
   "id": "e7572809",
   "metadata": {},
   "outputs": [],
   "source": []
  }
 ],
 "metadata": {
  "kernelspec": {
   "display_name": "Python 3 (ipykernel)",
   "language": "python",
   "name": "python3"
  },
  "language_info": {
   "codemirror_mode": {
    "name": "ipython",
    "version": 3
   },
   "file_extension": ".py",
   "mimetype": "text/x-python",
   "name": "python",
   "nbconvert_exporter": "python",
   "pygments_lexer": "ipython3",
   "version": "3.9.7"
  }
 },
 "nbformat": 4,
 "nbformat_minor": 5
}
